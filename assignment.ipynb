{
 "cells": [
  {
   "cell_type": "code",
   "execution_count": 78,
   "metadata": {},
   "outputs": [],
   "source": [
    "import numpy as np\n",
    "import pandas as pd\n",
    "import yfinance as yf"
   ]
  },
  {
   "cell_type": "code",
   "execution_count": 79,
   "metadata": {},
   "outputs": [
    {
     "name": "stdout",
     "output_type": "stream",
     "text": [
      "[*********************100%***********************]  1 of 1 completed\n"
     ]
    },
    {
     "data": {
      "text/html": [
       "<div>\n",
       "<style scoped>\n",
       "    .dataframe tbody tr th:only-of-type {\n",
       "        vertical-align: middle;\n",
       "    }\n",
       "\n",
       "    .dataframe tbody tr th {\n",
       "        vertical-align: top;\n",
       "    }\n",
       "\n",
       "    .dataframe thead th {\n",
       "        text-align: right;\n",
       "    }\n",
       "</style>\n",
       "<table border=\"1\" class=\"dataframe\">\n",
       "  <thead>\n",
       "    <tr style=\"text-align: right;\">\n",
       "      <th></th>\n",
       "      <th>Open</th>\n",
       "      <th>High</th>\n",
       "      <th>Low</th>\n",
       "      <th>Close</th>\n",
       "      <th>Adj Close</th>\n",
       "      <th>Volume</th>\n",
       "    </tr>\n",
       "    <tr>\n",
       "      <th>Date</th>\n",
       "      <th></th>\n",
       "      <th></th>\n",
       "      <th></th>\n",
       "      <th></th>\n",
       "      <th></th>\n",
       "      <th></th>\n",
       "    </tr>\n",
       "  </thead>\n",
       "  <tbody>\n",
       "    <tr>\n",
       "      <th>2010-01-04</th>\n",
       "      <td>30.620001</td>\n",
       "      <td>31.100000</td>\n",
       "      <td>30.590000</td>\n",
       "      <td>30.950001</td>\n",
       "      <td>23.572367</td>\n",
       "      <td>38409100</td>\n",
       "    </tr>\n",
       "    <tr>\n",
       "      <th>2010-01-05</th>\n",
       "      <td>30.850000</td>\n",
       "      <td>31.100000</td>\n",
       "      <td>30.639999</td>\n",
       "      <td>30.959999</td>\n",
       "      <td>23.579981</td>\n",
       "      <td>49749600</td>\n",
       "    </tr>\n",
       "    <tr>\n",
       "      <th>2010-01-06</th>\n",
       "      <td>30.879999</td>\n",
       "      <td>31.080000</td>\n",
       "      <td>30.520000</td>\n",
       "      <td>30.770000</td>\n",
       "      <td>23.435276</td>\n",
       "      <td>58182400</td>\n",
       "    </tr>\n",
       "    <tr>\n",
       "      <th>2010-01-07</th>\n",
       "      <td>30.629999</td>\n",
       "      <td>30.700001</td>\n",
       "      <td>30.190001</td>\n",
       "      <td>30.450001</td>\n",
       "      <td>23.191551</td>\n",
       "      <td>50559700</td>\n",
       "    </tr>\n",
       "    <tr>\n",
       "      <th>2010-01-08</th>\n",
       "      <td>30.280001</td>\n",
       "      <td>30.879999</td>\n",
       "      <td>30.240000</td>\n",
       "      <td>30.660000</td>\n",
       "      <td>23.351501</td>\n",
       "      <td>51197400</td>\n",
       "    </tr>\n",
       "    <tr>\n",
       "      <th>...</th>\n",
       "      <td>...</td>\n",
       "      <td>...</td>\n",
       "      <td>...</td>\n",
       "      <td>...</td>\n",
       "      <td>...</td>\n",
       "      <td>...</td>\n",
       "    </tr>\n",
       "    <tr>\n",
       "      <th>2023-04-24</th>\n",
       "      <td>282.089996</td>\n",
       "      <td>284.950012</td>\n",
       "      <td>278.720001</td>\n",
       "      <td>281.769989</td>\n",
       "      <td>281.155365</td>\n",
       "      <td>26611000</td>\n",
       "    </tr>\n",
       "    <tr>\n",
       "      <th>2023-04-25</th>\n",
       "      <td>279.510010</td>\n",
       "      <td>281.600006</td>\n",
       "      <td>275.369995</td>\n",
       "      <td>275.420013</td>\n",
       "      <td>274.819244</td>\n",
       "      <td>45772200</td>\n",
       "    </tr>\n",
       "    <tr>\n",
       "      <th>2023-04-26</th>\n",
       "      <td>296.700012</td>\n",
       "      <td>299.570007</td>\n",
       "      <td>292.730011</td>\n",
       "      <td>295.369995</td>\n",
       "      <td>294.725708</td>\n",
       "      <td>64599200</td>\n",
       "    </tr>\n",
       "    <tr>\n",
       "      <th>2023-04-27</th>\n",
       "      <td>295.970001</td>\n",
       "      <td>305.200012</td>\n",
       "      <td>295.250000</td>\n",
       "      <td>304.829987</td>\n",
       "      <td>304.165070</td>\n",
       "      <td>46462600</td>\n",
       "    </tr>\n",
       "    <tr>\n",
       "      <th>2023-04-28</th>\n",
       "      <td>304.010010</td>\n",
       "      <td>308.929993</td>\n",
       "      <td>303.309998</td>\n",
       "      <td>307.260010</td>\n",
       "      <td>306.589783</td>\n",
       "      <td>36446700</td>\n",
       "    </tr>\n",
       "  </tbody>\n",
       "</table>\n",
       "<p>3353 rows × 6 columns</p>\n",
       "</div>"
      ],
      "text/plain": [
       "                  Open        High         Low       Close   Adj Close  \\\n",
       "Date                                                                     \n",
       "2010-01-04   30.620001   31.100000   30.590000   30.950001   23.572367   \n",
       "2010-01-05   30.850000   31.100000   30.639999   30.959999   23.579981   \n",
       "2010-01-06   30.879999   31.080000   30.520000   30.770000   23.435276   \n",
       "2010-01-07   30.629999   30.700001   30.190001   30.450001   23.191551   \n",
       "2010-01-08   30.280001   30.879999   30.240000   30.660000   23.351501   \n",
       "...                ...         ...         ...         ...         ...   \n",
       "2023-04-24  282.089996  284.950012  278.720001  281.769989  281.155365   \n",
       "2023-04-25  279.510010  281.600006  275.369995  275.420013  274.819244   \n",
       "2023-04-26  296.700012  299.570007  292.730011  295.369995  294.725708   \n",
       "2023-04-27  295.970001  305.200012  295.250000  304.829987  304.165070   \n",
       "2023-04-28  304.010010  308.929993  303.309998  307.260010  306.589783   \n",
       "\n",
       "              Volume  \n",
       "Date                  \n",
       "2010-01-04  38409100  \n",
       "2010-01-05  49749600  \n",
       "2010-01-06  58182400  \n",
       "2010-01-07  50559700  \n",
       "2010-01-08  51197400  \n",
       "...              ...  \n",
       "2023-04-24  26611000  \n",
       "2023-04-25  45772200  \n",
       "2023-04-26  64599200  \n",
       "2023-04-27  46462600  \n",
       "2023-04-28  36446700  \n",
       "\n",
       "[3353 rows x 6 columns]"
      ]
     },
     "execution_count": 79,
     "metadata": {},
     "output_type": "execute_result"
    }
   ],
   "source": [
    "S_K600 = yf.download(tickers = \"MSFT\",start=\"2010-01-01\",end=\"2023-05-01\")\n",
    "S_K600"
   ]
  },
  {
   "cell_type": "code",
   "execution_count": 80,
   "metadata": {},
   "outputs": [
    {
     "data": {
      "text/plain": [
       "20.077485127292093"
      ]
     },
     "execution_count": 80,
     "metadata": {},
     "output_type": "execute_result"
    }
   ],
   "source": [
    "S_K600['daily_returns']=((S_K600['Close']-S_K600['Open'])/S_K600['Open'])*100\n",
    "daily_returns=S_K600['daily_returns']\n",
    "daily_returns\n",
    "volatility=daily_returns.std()*(252**0.5)\n",
    "volatility"
   ]
  },
  {
   "cell_type": "code",
   "execution_count": 81,
   "metadata": {},
   "outputs": [
    {
     "data": {
      "text/plain": [
       "Date\n",
       "2010-01-04    1.035197\n",
       "2010-01-05    1.047161\n",
       "2010-01-06    1.035082\n",
       "2010-01-07    1.015223\n",
       "2010-01-08    1.057299\n",
       "                ...   \n",
       "2023-04-24    5.219864\n",
       "2023-04-25    5.192537\n",
       "2023-04-26    5.184692\n",
       "2023-04-27    5.237132\n",
       "2023-04-28    5.255548\n",
       "Length: 3353, dtype: float64"
      ]
     },
     "execution_count": 81,
     "metadata": {},
     "output_type": "execute_result"
    }
   ],
   "source": [
    "cumulative_returns = (1+S_K600['daily_returns']/S_K600['Open']).cumprod()\n",
    "cumulative_returns"
   ]
  },
  {
   "cell_type": "code",
   "execution_count": 82,
   "metadata": {},
   "outputs": [
    {
     "data": {
      "text/plain": [
       "-0.37556466105038605"
      ]
     },
     "execution_count": 82,
     "metadata": {},
     "output_type": "execute_result"
    }
   ],
   "source": [
    "cumulative_max = S_K600['Close'].cummax()\n",
    "drawdowns = (S_K600['Close']-cumulative_max)/cumulative_max\n",
    "max_drawdown = drawdowns.min()\n",
    "max_drawdown"
   ]
  },
  {
   "cell_type": "code",
   "execution_count": 83,
   "metadata": {},
   "outputs": [
    {
     "data": {
      "text/plain": [
       "0.5454070681231462"
      ]
     },
     "execution_count": 83,
     "metadata": {},
     "output_type": "execute_result"
    }
   ],
   "source": [
    "annualized_mean_return = daily_returns.mean()*252\n",
    "annulized_std_devia = daily_returns.std()*(252**0.5)\n",
    "risk_free_rate=0\n",
    "sharpe_ratio=(annualized_mean_return-risk_free_rate)/annulized_std_devia\n",
    "sharpe_ratio"
   ]
  },
  {
   "attachments": {},
   "cell_type": "markdown",
   "metadata": {},
   "source": [
    "Above sharpe ratio is calculated by assuming that risk free rate =0, mean of daily return is equal to 0.457 , so let assume target value of daily return as 0.8"
   ]
  },
  {
   "cell_type": "code",
   "execution_count": 84,
   "metadata": {},
   "outputs": [
    {
     "data": {
      "text/plain": [
       "7.461290037989038"
      ]
     },
     "execution_count": 84,
     "metadata": {},
     "output_type": "execute_result"
    }
   ],
   "source": [
    "target_return = 0.8\n",
    "difference = daily_returns-target_return\n",
    "negative_difference = np.minimum(difference,0)\n",
    "squared_negative_differences=negative_difference**2\n",
    "ave_squared_negative_difference = np.mean(squared_negative_differences)\n",
    "downside_deviation=np.sqrt(ave_squared_negative_difference)\n",
    "sortino_ratio = (annualized_mean_return-target_return)/downside_deviation\n",
    "sortino_ratio"
   ]
  }
 ],
 "metadata": {
  "kernelspec": {
   "display_name": "Python 3",
   "language": "python",
   "name": "python3"
  },
  "language_info": {
   "codemirror_mode": {
    "name": "ipython",
    "version": 3
   },
   "file_extension": ".py",
   "mimetype": "text/x-python",
   "name": "python",
   "nbconvert_exporter": "python",
   "pygments_lexer": "ipython3",
   "version": "3.11.1"
  },
  "orig_nbformat": 4
 },
 "nbformat": 4,
 "nbformat_minor": 2
}
